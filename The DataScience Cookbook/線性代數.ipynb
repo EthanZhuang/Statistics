{
 "cells": [
  {
   "cell_type": "code",
   "execution_count": 14,
   "id": "dental-sailing",
   "metadata": {},
   "outputs": [
    {
     "name": "stdout",
     "output_type": "stream",
     "text": [
      "[(1, 4), (2, 5), (3, 6)]\n",
      "[5, 7, 9]\n",
      "[(1, 4), (2, 5), (3, 6)]\n"
     ]
    }
   ],
   "source": [
    "def add(v: 'Vector', w: 'Vector') -> 'Vector':\n",
    "    \"\"\"\n",
    "    相應元素相加\n",
    "    \"\"\"\n",
    "    assert len(v) == len(w), \"兩個向量必須要有相同元素\"\n",
    "    print(list(zip(v, w))) # 確定 list(zip(v, w))的東西是相同\n",
    "    return [v_i + w_i for v_i, w_i in zip(v, w)] # \"將兩個向量zip包再一起相加\"\n",
    "\n",
    "print(add([1, 2, 3], [4, 5, 6]))\n",
    "assert add([1, 2, 3], [4, 5, 6]) == [5, 7, 9] # True"
   ]
  },
  {
   "cell_type": "code",
   "execution_count": 18,
   "id": "material-vocabulary",
   "metadata": {},
   "outputs": [
    {
     "name": "stdout",
     "output_type": "stream",
     "text": [
      "[-3, -3, -3]\n"
     ]
    }
   ],
   "source": [
    "def subtract(v: 'Vector', w: 'Vector') -> 'Vector':\n",
    "    \"\"\"\n",
    "    相應元素相減\n",
    "    \"\"\"\n",
    "    assert len(v) == len(w), \"兩個向量必須要有相同元素\"\n",
    "#     print(list(zip(v, w))) # 確定 list(zip(v, w))的東西是相同\n",
    "    return [v_i - w_i for v_i, w_i in zip(v, w)] # \"將兩個向量zip包再一起相加\"\n",
    "\n",
    "print(subtract([1, 2, 3], [4, 5, 6]))\n",
    "assert subtract([1, 2, 3], [4, 5, 6]) == [-3, -3, -3] # True"
   ]
  },
  {
   "cell_type": "code",
   "execution_count": 21,
   "id": "incorrect-villa",
   "metadata": {},
   "outputs": [],
   "source": [
    "from __future__ import annotations\n",
    "\n",
    "def vector_sum(vectors: List[Vector]) -> Vector:\n",
    "    \"\"\"Sums all corresponding elements\"\"\"\n",
    "    # Check that vectors is not empty\n",
    "    assert vectors, \"no vectors provided!\"\n",
    "\n",
    "    # Check the vectors are all the same size\n",
    "    num_elements = len(vectors[0]), \"第一個向量的大小 = 後面向量的大小\"\n",
    "    assert all(len(v) == num_elements for v in vectors), \"different sizes!\"\n",
    "\n",
    "    # the i-th element of the result is the sum of every vector[i]\n",
    "    return [sum(vector[i] for vector in vectors)\n",
    "            for i in range(num_elements)]\n",
    "\n",
    "assert vector_sum([[1, 2], [3, 4], [5, 6], [7, 8]]) == [16, 20]\n"
   ]
  },
  {
   "cell_type": "code",
   "execution_count": 28,
   "id": "heard-programmer",
   "metadata": {},
   "outputs": [],
   "source": [
    "from __future__ import annotations \n",
    "\n",
    "def vector_sum(vectors: List[Vector]) -> Vector:\n",
    "    assert vectors\n",
    "    \n",
    "    num_elements = len(vectors[0])\n",
    "    assert all(len(v) == num_elements for v in vectors)\n",
    "    \n",
    "    return [sum((vector[i]) for vector in vectors)\n",
    "                for i in range(num_elements)]\n",
    "            \n",
    "assert vector_sum([[1, 2], [3, 4], [5, 6], [7, 8], [9, 10]]) == [25, 30]"
   ]
  },
  {
   "cell_type": "markdown",
   "id": "cleared-difficulty",
   "metadata": {},
   "source": [
    "## 矩陣"
   ]
  },
  {
   "cell_type": "code",
   "execution_count": 64,
   "id": "eligible-productivity",
   "metadata": {
    "tags": []
   },
   "outputs": [
    {
     "name": "stdout",
     "output_type": "stream",
     "text": [
      "typing.List[typing.List[float]]\n"
     ]
    }
   ],
   "source": [
    "from __future__ import annotations \n",
    "from typing import List\n",
    "\n",
    "# 這是一個型別別名\n",
    "Matrix = List[List[float]]\n",
    "print(Matrix)"
   ]
  },
  {
   "cell_type": "code",
   "execution_count": 32,
   "id": "ranging-shuttle",
   "metadata": {},
   "outputs": [
    {
     "data": {
      "text/plain": [
       "((3, '這裡討論的是 cols'), (2, '這裡討論的是 rows'))"
      ]
     },
     "execution_count": 32,
     "metadata": {},
     "output_type": "execute_result"
    }
   ],
   "source": [
    "from __future__ import annotations \n",
    "\n",
    "def shape(A: Matrix) -> Tuple[int, int]:\n",
    "    num_cols = len(A[0]), \"這裡討論的是 cols\"\n",
    "    num_rows = len(A), \"這裡討論的是 rows\"\n",
    "\n",
    "    return num_cols, num_rows\n",
    "\n",
    "shape([[1, 2, 3], [2, 3, 4]])"
   ]
  },
  {
   "cell_type": "code",
   "execution_count": 49,
   "id": "charming-daughter",
   "metadata": {},
   "outputs": [
    {
     "name": "stdout",
     "output_type": "stream",
     "text": [
      "[[1, 0, 0, 0, 0], [0, 1, 0, 0, 0], [0, 0, 1, 0, 0], [0, 0, 0, 1, 0], [0, 0, 0, 0, 1]]\n"
     ]
    }
   ],
   "source": [
    "from __future__ import annotations\n",
    "def make_matrix(num_rows: int,\n",
    "                num_cols: int,\n",
    "                entry_fn: Callable[[int, int], float]) -> Matrix:\n",
    "    \"\"\"造出一個矩陣大小為 num_cols x num_rols,\n",
    "    and then 裡面在[i, j]位置的元素為 entry_fn(i, j)\"\"\"\n",
    "    \n",
    "    # 巢狀矩陣\n",
    "    return [[entry_fn(i, j)\n",
    "            for j in range(num_cols)]\n",
    "            for i in range(num_rows)]\n",
    "\n",
    "def identity_matrix(n: int, ) -> Matrix:\n",
    "    \"\"\"Build an identity matrix by the function make_matrix\"\"\"\n",
    "    return make_matrix(n, n, lambda i, j: 1 if i == j else 0)\n",
    "    \n",
    "print(identity_matrix(5)) # 會產生 5x5 對角為 1 的對角矩陣\n",
    "assert identity_matrix(5) == [[1, 0, 0, 0, 0], # True \n",
    "                              [0, 1, 0, 0, 0],\n",
    "                              [0, 0, 1, 0, 0],\n",
    "                              [0, 0, 0, 1, 0],\n",
    "                              [0, 0, 0, 0, 1]] \n",
    "\n",
    "# make_matrix(5, 5, lambda i, j: 1 if i == j else 0)"
   ]
  },
  {
   "cell_type": "code",
   "execution_count": 55,
   "id": "amateur-tracker",
   "metadata": {},
   "outputs": [
    {
     "name": "stdout",
     "output_type": "stream",
     "text": [
      "[4, 6, 7]\n"
     ]
    }
   ],
   "source": [
    "# 第一章提到的二元判斷方式(Binary relationship)\n",
    "friendships = [(0, 1), (0, 2), (1, 2), (1, 3), (2, 3), (3, 4),\n",
    "               (4, 5), (5, 6), (5, 7), (6, 8), (7, 8), (8, 9)]\n",
    "\n",
    "#            user 0  1  2  3  4  5  6  7  8  9\n",
    "#\n",
    "friend_matrix = [[0, 1, 1, 0, 0, 0, 0, 0, 0, 0],  # user 0\n",
    "                 [1, 0, 1, 1, 0, 0, 0, 0, 0, 0],  # user 1\n",
    "                 [1, 1, 0, 1, 0, 0, 0, 0, 0, 0],  # user 2\n",
    "                 [0, 1, 1, 0, 1, 0, 0, 0, 0, 0],  # user 3\n",
    "                 [0, 0, 0, 1, 0, 1, 0, 0, 0, 0],  # user 4\n",
    "                 [0, 0, 0, 0, 1, 0, 1, 1, 0, 0],  # user 5\n",
    "                 [0, 0, 0, 0, 0, 1, 0, 0, 1, 0],  # user 6\n",
    "                 [0, 0, 0, 0, 0, 1, 0, 0, 1, 0],  # user 7\n",
    "                 [0, 0, 0, 0, 0, 0, 1, 1, 0, 1],  # user 8\n",
    "                 [0, 0, 0, 0, 0, 0, 0, 0, 1, 0]]  # user 9\n",
    "\n",
    "assert friend_matrix[0][2] == 1, \"0 and 2 are friends\"\n",
    "assert friend_matrix[0][8] == 0, \"0 and 8 are not friends\"\n",
    "\n",
    "\n",
    "friend_of_five = [i for i, is_friend in enumerate(friend_matrix[5]) if is_friend]\n",
    "print(friend_of_five) # 可以知道 user5 和 user4, 6, 7 都是朋友"
   ]
  },
  {
   "cell_type": "code",
   "execution_count": 58,
   "id": "intelligent-endorsement",
   "metadata": {},
   "outputs": [
    {
     "name": "stdout",
     "output_type": "stream",
     "text": [
      "[0, 0, 0, 0, 1, 0, 1, 1, 0, 0]\n"
     ]
    }
   ],
   "source": [
    "print(friend_matrix[5])"
   ]
  },
  {
   "cell_type": "code",
   "execution_count": 61,
   "id": "informational-grill",
   "metadata": {},
   "outputs": [
    {
     "name": "stdout",
     "output_type": "stream",
     "text": [
      "[1, 1, 1]\n"
     ]
    }
   ],
   "source": [
    "print([is_friend for i, is_friend in enumerate(friend_matrix[5]) if is_friend])"
   ]
  },
  {
   "cell_type": "code",
   "execution_count": null,
   "id": "interesting-midwest",
   "metadata": {},
   "outputs": [],
   "source": []
  }
 ],
 "metadata": {
  "kernelspec": {
   "display_name": "Python 3",
   "language": "python",
   "name": "python3"
  },
  "language_info": {
   "codemirror_mode": {
    "name": "ipython",
    "version": 3
   },
   "file_extension": ".py",
   "mimetype": "text/x-python",
   "name": "python",
   "nbconvert_exporter": "python",
   "pygments_lexer": "ipython3",
   "version": "3.8.8"
  }
 },
 "nbformat": 4,
 "nbformat_minor": 5
}
