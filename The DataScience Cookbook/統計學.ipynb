{
 "cells": [
  {
   "cell_type": "code",
   "execution_count": 1,
   "id": "appointed-secondary",
   "metadata": {},
   "outputs": [
    {
     "data": {
      "image/png": "[encoded data removed]",
      "text/plain": [
       "<Figure size 432x288 with 1 Axes>"
      ]
     },
     "metadata": {
      "needs_background": "light"
     },
     "output_type": "display_data"
    }
   ],
   "source": [
    "from collections import Counter\n",
    "import matplotlib.pyplot as plt\n",
    "import numpy as np\n",
    "\n",
    "# user? 的朋友從 1~100 個都有，總共找 1000 個人做實驗\n",
    "num_friends = np.random.randint(low = 1, high = 100, size = 1000)\n",
    "\n",
    "friend_counts = Counter(num_friends) # Ex: 100:3 表示 有3個人的好友數量來到 100人\n",
    "xs = range(max(num_friends)) # 將 x asix限制於朋友的最大數量\n",
    "ys = [friend_counts[x] for x in xs] # 將 y asix限制於人數的最大值\n",
    "\n",
    "plt.bar(xs, ys)\n",
    "plt.axis([0, max(num_friends), 0, max(ys)])\n",
    "plt.title('Histogram of Frined Counts')\n",
    "plt.xlabel(' # of friends')\n",
    "plt.ylabel(' # of people')\n",
    "plt.show()"
   ]
  },
  {
   "cell_type": "markdown",
   "id": "royal-pilot",
   "metadata": {},
   "source": [
    "## 中央趨勢"
   ]
  },
  {
   "cell_type": "code",
   "execution_count": 5,
   "id": "authentic-semester",
   "metadata": {
    "collapsed": true,
    "jupyter": {
     "outputs_hidden": true
    },
    "tags": []
   },
   "outputs": [
    {
     "name": "stdout",
     "output_type": "stream",
     "text": [
      "[39 47 94 71 93 15 44 43 44 37 14 24 22 18 49 56 57 89 53 75 81 40 35 29\n",
      " 12 91 32 51  6 38 54 99 10 96 72 12 41 11 95 95 24 29 69 43  2 34 24 98\n",
      " 15 26 66 76 98  1 49 46 44 19 77 76 19 46 17 67 34 97  3 75 91 99 80 39\n",
      " 72 46 24 71 46 38 68 23 68 78 23 52 32  6 65  4 91 81 98 40 53 56 16 21\n",
      " 21 22 97  3 59 18 76 33 20 72  8 61 28 99 78 83 12  2 81 76 85 34 25 63\n",
      " 78  8  4  7 66 61 14 32 34 13 91 65 73 31 30 83 43  7 31 23 95 64 15 36\n",
      " 59 13 85 34 72 75 54 27 99 70 23 12 84 97 37 35 78  6 67 27 51 13 88 20\n",
      " 63 50 20 49 41 43 13 14 29 77 59 24 48 53 59 62 76 39 39 80  7 97 79 84\n",
      " 72 33 56 90 29 44 81 96 80 80 99 38 28 71 78 84 66 28 26 85 62 45 82 72\n",
      " 56 63  8 68 85 96 69 31 95 97 79 60 56 79 71 95 47  8 98 73 77 35 73 52\n",
      " 82 90 76 78 80 80 44 45 58  1 44 93 26 18 90 63 75 33 83 47 15 97 92 84\n",
      " 13 67 57 38 12 23 53 40 26 22 29 25 66 90 68 92 79 43 90 50 49 77 15 30\n",
      "  7  8 27 24 47 52 61 44 29 62 27 24 66 65 34 94 82 67 98 33 25 97 87 68\n",
      " 45 52 45 34  9 85 22 29 87  1 98 27 57 29  7 78 57 52 24 34  9 87 74  8\n",
      " 28 41 59 11 98 12  6 75 92 96 21 61 78 10 73  8 58  9 41  8  8 74 85 32\n",
      " 31 78 76 29 48 94 64 20  5 51 31 32 98 64 57 28 93 10 28 72 32 32 47 29\n",
      " 10 34 43 61 41 19 47 46 77 35 48  5 41 77 49 81 47 66 89 55 12 68  1 88\n",
      " 99 47 14 26 71 78 19 59 29 96 66 78 34 27 65 55 96 31 41 93 27 25 37 94\n",
      " 43  9 17 71 14 35 55 29 21 49 62 78 26 35  7 83 57 13 37 47 33 96 70 54\n",
      " 53 62 81 92 93 29 69 84 78 94 21 46 61 23 67 16 64 81 99 10 24 17  1 87\n",
      " 43 26 40 12 87 61 33 37 28 28 11 11 98 61 76 84 62 31 77 59 98 51 55 82\n",
      " 57 33 90 19 70  9 81  3 57 25 70 65 50  6  3 12 37 87 40 43 69 89 96 48\n",
      " 84 96 72  3 60  6 46 58 55 53 24 52 55 29 17 77 79 82 22 35 88 11 62 96\n",
      " 42 87 52 27 27 67 48 63 17 25 11 79 38 55 72 51 65 60 61 99 64 78 84 98\n",
      " 14 23  3 60 58 23 99 85 34 62 51 49 62 16 55 73 50 71 15 75 12 91 57 87\n",
      " 80 87 17 51 60 57 56  1 86 55 43 51 20 75 46 25 43 53 30 74  2 70 21 77\n",
      " 22 25 56 46 78 74 13 76 48 14 15  4 11 51 97 29 95 43 79 73 89 90 20 47\n",
      " 27 45 20 77 69 58 47 30  5 49 73 58 53 17 48 95  5 38 52 47 96 16 60 39\n",
      " 53 17 96 48 43 99 26  6 94 54 96 28 89 64 80 38 91 34 60 93 44 63 54 84\n",
      " 25 32 75 71 30 89 96 22  5  4 26 30 57 29 35 45 27 13 23 47 77  2 99 19\n",
      " 32 64 81 58 53 21 22 82 65 29 70 77 67 72 58 76 30 41 87 25 35 21  2 59\n",
      " 80 82 23 93 99 85 43 96 60 16 38 22 17 51 35 81 81 33 94  7 86 91 30  4\n",
      " 46 37 20 97 53 20 69  6 31 40 77 65 61 11 54 52 59 82 59 21  7 51 54 58\n",
      " 64 30 20 22 56 83 96 17 54 29 91 34  2 91  3  4 61 42 63 10 97 75 89 85\n",
      " 94 93 16  5 15  7 62 66 92 65 44 81 96 25 16 87 96 31 72 71 70 17 96 30\n",
      " 89 68 10 39 78 42 11 87  2 62 90  7 92 54 49 38 12 31 90 86 42 94 60 35\n",
      " 80 36 15 65 36 13 82 28  5 93 54 57 88 44 85 48 96 85 99  2 47 65 18 95\n",
      " 47 65 96 11  6 57 42 32 71 14 87 62 90 77  5 79 54 80 20 83 53 63 97 37\n",
      " 64 60 79 48 45 87 11 88 35 86 68 41 53 80 41 21 72 77 92 54 21 57 71  6\n",
      " 77 99 89 86 61 74  7 18 11 43 16  9 45 73 41  9 65  3 96 86 55 94 82 57\n",
      " 51 37 17 54 81 56 47 43 88 65  6 77  8  7 19 29 51 99 50 46 29 82 89 75\n",
      " 13 18  1 61 37 35 61 99 48 50 80  3 44 43 82 26]\n"
     ]
    },
    {
     "data": {
      "text/plain": [
       "51.384"
      ]
     },
     "execution_count": 5,
     "metadata": {},
     "output_type": "execute_result"
    }
   ],
   "source": [
    "from __future__ import annotations\n",
    "import numpy as np\n",
    "\n",
    "# user? 的朋友從 1~100 個都有，總共找 1000 個人做實驗\n",
    "num_friends = np.random.randint(low = 1, high = 100, size = 1000) \n",
    "def mean(xs: List[float]) -> float:\n",
    "    return sum(xs) / len(xs)\n",
    "\n",
    "# print(num_friends)\n",
    "mean(num_friends)"
   ]
  },
  {
   "cell_type": "code",
   "execution_count": 22,
   "id": "reverse-biodiversity",
   "metadata": {},
   "outputs": [],
   "source": [
    "class Calculate:\n",
    "    # 開頭的底線(EX: _median_odd())是代表此函示是 private(私有的)函式\n",
    "    def _median_odd(xs: List[float]) -> float:\n",
    "        \"\"\"如果 len(xs) 是奇數，排序之後最中間的那個值就是中位數\"\"\"\n",
    "        return sorted(xs)[len(xs) // 2]\n",
    "\n",
    "    def _median_even(xs: List[float]) -> float:\n",
    "        \"\"\"如果 len(xs) 是偶數，排序之後中間的那個值就是中位數\"\"\"\n",
    "        return (sorted(xs)[len(xs) // 2] + sorted(xs)[(len(xs) // 2) - 1]) / 2 \n",
    "\n",
    "    def median(v: List[float]) -> float:\n",
    "        \"\"\"找出最中間的值\"\"\"\n",
    "        return _median_even(v) if len(v)%2 == 0 else _median_odd(v)\n",
    "\n",
    "# print(median([1, 10, 5, 7, 9]))\n",
    "# print(median([1, 5, 7, 9]))\n",
    "assert median([1, 10, 5, 7, 9]) == 7\n",
    "# assert median([1, 5, 7, 9]) == 6"
   ]
  },
  {
   "cell_type": "code",
   "execution_count": null,
   "id": "level-renewal",
   "metadata": {},
   "outputs": [],
   "source": [
    "import "
   ]
  }
 ],
 "metadata": {
  "kernelspec": {
   "display_name": "Python 3",
   "language": "python",
   "name": "python3"
  },
  "language_info": {
   "codemirror_mode": {
    "name": "ipython",
    "version": 3
   },
   "file_extension": ".py",
   "mimetype": "text/x-python",
   "name": "python",
   "nbconvert_exporter": "python",
   "pygments_lexer": "ipython3",
   "version": "3.8.8"
  }
 },
 "nbformat": 4,
 "nbformat_minor": 5
}
